{
 "cells": [
  {
   "cell_type": "markdown",
   "id": "3c2fa962-82be-4d2a-960e-6c81871aaa1f",
   "metadata": {},
   "source": [
    "### Broad research areas\n",
    "(According to Nature Journal:)\n",
    "- Climate sciences\n",
    "- Ecology\n",
    "- Environmental sciences\n",
    "- Ocean sciences\n",
    "- Genetics\n",
    "- Microbiology\n",
    "- Neuroscience\n",
    "- Evolution\n",
    "- Immunology\n",
    "- Cancer\n",
    "- Zoology\n",
    "- Biotechnology\n",
    "- Drug discovery\n",
    "- Plant sciences\n",
    "- Computational biology and bioinformatics\n",
    "\n",
    "### Areas of microbiome research\n",
    "- Human microbiome\n",
    "- Insect microbiome: pollinators, vectors\n",
    "- Fish microbiome: farmed fish vs wild fish\n",
    "- Wildlife microbiome: conservation\n",
    "- Soil microbiome\n",
    "- Plant microbiome: crops\n",
    "- Marine microbiome: seagrass, coral\n",
    "\n",
    "### Effects of microbiome\n",
    "- Health and disease\n",
    "- Behaviour\n",
    "- Nutrition\n",
    "\n",
    "### Features of microbiome\n",
    "- Temporal dynamics\n",
    "- Spatial dynamics\n",
    "- Metabolic pathways\n",
    "- Responses to treatments\n",
    "\n",
    "### Research question ideas\n",
    "- Are microbial communities reproducible?\n",
    "- Comparison of microbial community temporal dynamics across sites - are there general patterns? Requires time series data ASV tables of multiple microbial communities\n",
    "- Comparison of microbial community structure between pollinator species - links to function? Requires ASV tables from multiple pollinator species\n",
    "- Comparison of microbial community structure between vectors - requires ASV tables for different vectors\n",
    "- Comparison of microbiome network structure across a range of taxa - do all microbial network structures show shared motifs - requires ASV tables from a range of taxa\n",
    "- Comparison of microbial community structure between closely related taxa with different functions - link microbial communtiy to function\n",
    "- Comparison of microbial communtiy between frog species - see if impacts resistance to fungus\n",
    "- Comparison of microbial community structure between crops\n",
    "- Comparison of microbial community structure between mental illnesses"
   ]
  },
  {
   "cell_type": "markdown",
   "id": "3a4b2919-cb6a-48bc-a307-5563deebf9a4",
   "metadata": {},
   "source": [
    "Potential data sources\n",
    "-----\n",
    "\n",
    "### Data sources listed in Silwood Student Handbook\n",
    "- Silwood and non-Silwood supervisors through the DoLS website: \n",
    "http://www.imperial.ac.uk/life-sciences/research/research-themes/\n",
    "- Silwood academic \n",
    "staff can be found here: http://www.imperial.ac.uk/visit/campuses/silwood-park/academic\u0002staff\n",
    "- Grantham institute: http://www.imperial.ac.uk/grantham/\n",
    "- The Centre for Environmental Policy: https://www.imperial.ac.uk/environmental\u0002policy/ \n",
    "- Silwood Long-Term Experiments: http://www.imperial.ac.uk/visit/campuses/silwood\u0002park/research/field-experiments/ \n",
    "- GMC: https://www.imperial.ac.uk/georgina-mace-living-planet\n",
    "- SITE-100: www.site100.org\n",
    "- VectorBiTE: www.vectorbite.org \n",
    "- Vectorbase: https://www.vectorbase.org/\n",
    "- ZSL Institute of Zoology (IoZ): http://www.zsl.org/science/ioz-staff-students; Contact Dr. \n",
    "Chris Carbone http://www.zsl.org/users/chris-carbone\n",
    "- Natural History Museum (NHM): NHM has a massive collections digitization project going \n",
    "on that are yielding unique and massive datasets on species morphologies, and spatio\u0002temporal distributions, among other things. Contact Andy Purvis Andy.Purvis@nhm.ac.uk \n",
    "or Steve Brooks S.Brooks@nhm.ac.uk for more information and project ideas. Also visit \n",
    "their website: www.nhm.ac.uk/our-science/departments-and-staff/life-sciences \n",
    "- Centre for Environment, Fisheries, and Aquaculture Science (CEFAS) – Simon Jennings \n",
    "and others; A wide range of projects in applied and fundamental aspects of fisheries \n",
    "management and marine ecology and ecosystem management may be available linked \n",
    "with the CEFAS Lowestoft Laboratory in Suffolk. Projects may be located at Silwood or \n",
    "possibly at Lowestoft. For more information about CEFAS and what work goes on there, \n",
    "read http://www.cefas.co.uk/ ; also Contact Sophie Pitois, Plankton ecologist (Cefas), \n",
    "sophie.pitois@cefas.co.uk\n",
    "- Centre for Ecology and Hydrology, Wallingford: Research areas for projects are based \n",
    "around ecological modelling of UK systems, often with practical or policy implications. \n",
    "- UNEP-World Conservation Monitoring Centre (UNEP-WCMC): A wide range of projects \n",
    "addressing global/regional biodiversity and ecosystem services issues, including: \n",
    "international agreements synergies, conservation priority setting, international trade and \n",
    "regional economies, drylands and livelihood support, wildlife trade and social networks, \n",
    "access and benefit sharing, protected area targets and social values, monitoring \n",
    "deforestation and degradation, and more. \n",
    "- Somerset Wildlife Trust: Broad research interests cover the interaction of land use \n",
    "methods and biodiversity on lowland wetlands. A variety of projects are possible from \n",
    "looking at restoration of biodiversity on restored peat extraction sites through to examining \n",
    "the effects of drainage and re-wetting on peat soil integrity and micro-arthropod diversity. \n",
    "Many projects are available concerning the conservation of nationally rare invertebrate \n",
    "species. \n",
    "\n",
    "#### Imperial potential data sources:\n",
    "- Emma Ransome\n",
    "- Will Pearse Understanding the ecology and evolution of the plant microbiome\n",
    "- Julia Schroeder Microbiome fingerprints: can we identify individual birds by their microbiome?\n",
    "- Peter Graystock\n",
    "- Samraat Pawar https://silwoodmasters.info/view_project?id=1361\n",
    "\n",
    "### Data sites\n",
    "- Earth microbiome project\n",
    "- Zenodo\n",
    "- Human microbiome project\n",
    "- MDPI https://www.mdpi.com/journal/data CHECKED\n",
    "- Nature https://www.nature.com/sdata/articles?type=data-descriptor CHECKED\n",
    "- NCBI https://www.ncbi.nlm.nih.gov/\n",
    "- BacDive https://bacdive.dsmz.de/\n",
    "- AMDB https://amdb.online/help/ CHECKED\n",
    "- GMRepo https://gmrepo.humangut.info/ - USEFUL\n",
    "- FigShare https://figshare.com/"
   ]
  },
  {
   "cell_type": "markdown",
   "id": "2e0203fe-ef10-45d4-9d28-311e63cd6f86",
   "metadata": {},
   "source": [
    "Specific data sets\n",
    "-----"
   ]
  },
  {
   "cell_type": "markdown",
   "id": "c4829861-3d58-4ac4-bfdf-050d6355c77b",
   "metadata": {},
   "source": [
    "Jinhae bay\n",
    "https://www.mdpi.com/2306-5729/6/5/44\n",
    "Table S2_Jinhae Bay Bacterial Data.xlsx\n",
    "Table S1_Jinhae Bay Environmental Data.xlsx"
   ]
  },
  {
   "cell_type": "markdown",
   "id": "4506bed7-3e2a-499c-a4b7-6bc87e2f61d2",
   "metadata": {},
   "source": [
    "Curated and harmonized gut microbiome 16S rRNA amplicon data from dietary fiber intervention studies in humans\n",
    "https://www.nature.com/articles/s41597-023-02254-4#Sec5"
   ]
  },
  {
   "cell_type": "markdown",
   "id": "a149d0db-0e9e-4db8-81f7-c22f0872fc59",
   "metadata": {},
   "source": [
    "Comprehensive 16S rRNA and metagenomic data from the gut microbiome of aging and rejuvenation mouse models\n",
    "https://www.nature.com/articles/s41597-022-01308-3#Sec9"
   ]
  },
  {
   "cell_type": "markdown",
   "id": "9233b5f1-007c-4f4a-b88b-8bca055e76d1",
   "metadata": {},
   "source": [
    "A georeferenced rRNA amplicon database of aquatic microbiomes from South America\n",
    "https://www.nature.com/articles/s41597-022-01665-z#Sec6"
   ]
  },
  {
   "cell_type": "markdown",
   "id": "6d3928f2-a981-428e-8195-6db658ab0e7e",
   "metadata": {},
   "source": [
    "Core species and interactions prominent in fish-associated microbiome dynamics\n",
    "https://microbiomejournal.biomedcentral.com/articles/10.1186/s40168-023-01498-x#availability-of-data-and-materials"
   ]
  },
  {
   "cell_type": "markdown",
   "id": "ebee7588-b2e3-49ef-ac2f-e1cdfb5219fc",
   "metadata": {},
   "source": [
    "Data from: Variation in gut microbial communities and its association with pathogen infection in wild bumble bees (Bombus)\n",
    "https://zenodo.org/records/5005735"
   ]
  },
  {
   "cell_type": "markdown",
   "id": "9be178b1-0430-42c6-840e-d49ad14f3ced",
   "metadata": {},
   "source": [
    "Dynamics of Seawater Bacterial Communities in a Shellfish Hatchery\n",
    "https://link.springer.com/article/10.1007/s00248-013-0183-6#rightslink"
   ]
  },
  {
   "cell_type": "markdown",
   "id": "3ea3eb72-ec19-4b5c-8752-de0605481a46",
   "metadata": {},
   "source": [
    "### Frog disease microbiome\n",
    "\n",
    "Amphibian chytridiomycosis outbreak dynamics are linked with host skin bacterial community structure\n",
    "https://www.nature.com/articles/s41467-018-02967-w\n",
    "\n",
    "Amphibian microbiome could be key to fighting deadly fungal disease\n",
    "https://www.nhm.ac.uk/discover/news/2022/july/amphibian-microbiome-could-be-key-fighting-deadly-fungal-disease.html\n",
    "\n",
    "The interplay of fungal and bacterial microbiomes on rainforest frogs following a disease outbreak\n",
    "https://esajournals.onlinelibrary.wiley.com/doi/10.1002/ecs2.4037\n",
    "\n",
    "Environment is associated with chytrid infection and skin microbiome richness on an amphibian rich island (Taiwan)\n",
    "https://www.ncbi.nlm.nih.gov/pmc/articles/PMC9525630/\n",
    "\n",
    "Amphibian chytridiomycosis outbreak dynamics are linked with host skin bacterial community structure\n",
    "https://www.nature.com/articles/s41467-018-02967-w\n",
    "\n",
    "Microbiome function predicts amphibian chytridiomycosis disease dynamics\n",
    "https://pubmed.ncbi.nlm.nih.gov/35272699/\n",
    "\n",
    "The pathogen Batrachochytrium dendrobatidis disturbs the frog skin microbiome during a natural epidemic and experimental infection\n",
    "https://www.pnas.org/doi/full/10.1073/pnas.1412752111\n",
    "\n",
    "The Amphibian Skin Microbiome and Its Protective Role Against Chytridiomycosis\n",
    "https://bioone.org/journals/herpetologica/volume-76/issue-2/0018-0831-76.2.167/The-Amphibian-Skin-Microbiome-and-Its-Protective-Role-Against-Chytridiomycosis/10.1655/0018-0831-76.2.167.full\n",
    "\n",
    "The amphibian microbiome exhibits poor resilience following pathogen-induced disturbance \n",
    "https://academic.oup.com/ismej/article/15/6/1628/7474532\n",
    "\n",
    "Bacterial Community in the Skin Microbiome of Frogs in a Coldspot of Chytridiomycosis Infection\n",
    "https://link.springer.com/article/10.1007/s00248-020-01669-5\n",
    "\n",
    "Fungal infection alters the selection, dispersal, and drift processes structuring the amphibian skin microbiome\n",
    "https://zenodo.org/records/5004758\n",
    "\n",
    "Managing Amphibian Disease with Skin Microbiota\n",
    "https://www.sciencedirect.com/science/article/pii/S0966842X15003017?via%3Dihub\n",
    "\n",
    "ZSL\n",
    "https://www.zsl.org/what-we-do/projects/amphibian-chytridiomycosis\n",
    "- https://www.zsl.org/about-zsl/our-people/andrew-cunningham\n",
    "- https://www.zsl.org/about-zsl/our-people/prof-trenton-w-j-garner\n",
    "Cambridge\n",
    "- https://www.zoo.cam.ac.uk/directory/silviu-petrovan\n",
    "Imperial\n",
    "- https://www.imperial.ac.uk/people/matthew.fisher/publications.html?respub-action=citation.html&id=1110497&noscript=noscript\n",
    "\n",
    "Batrachochytrium salamandrivorans elicits acute stress response in spotted salamanders but not infection or mortality\n",
    "https://zslpublications.onlinelibrary.wiley.com/doi/10.1111/acv.12565\n",
    "\n",
    "• Bates, K. A., Shelton, J. M., Mercier, V. L., Hopkins, K. P., Harrison, X. A., Petrovan, S. O., & Fisher, M. C. (2019). Captivity and infection by the fungal pathogen Batrachochytrium salamandrivorans perturb the amphibian skin microbiome. Frontiers in Microbiology, 10, 1834. doi: 10.3389/fmicb.2019.01834\n",
    "\n",
    "https://www.imperial.ac.uk/news/178411/breakthrough-aposamphibian-plague-deadly-fungus-genes/\n",
    "\n",
    "Skin bacteria may predict vulnerability of amphibians to killer chytrid fungus\n",
    "https://www.imperial.ac.uk/news/184894/skin-bacteria-predict-vulnerability-amphibians-killer/\n",
    "\n",
    "Into the Wild: Animal Microbiomes in Conservation\n",
    "https://asm.org/articles/2022/august/into-the-wild-animal-microbiomes-in-conservation\n",
    "\n",
    "#### MIGHT HAVE DATA\n",
    "Associations of Batrachochytrium dendrobatidis with skin bacteria and fungi on Asian amphibian hosts\n",
    "https://www.nature.com/articles/s43705-023-00332-7#:~:text=Amphibian%20skin%20harbors%20microorganisms%20that,most%20significant%20wildlife%20diseases%20known."
   ]
  },
  {
   "cell_type": "markdown",
   "id": "d7ece16e-5284-4bc4-99d3-3d09de04beb7",
   "metadata": {},
   "source": [
    "### Microbiome with temperature\n",
    "\n",
    "The Lizard Gut Microbiome Changes with Temperature and Is Associated with Heat Tolerance\n",
    "https://journals.asm.org/doi/10.1128/aem.01181-20\n",
    "\n",
    "The Effects of Temperature on Animal Gut Microbiomes\n",
    "https://www.frontiersin.org/journals/microbiology/articles/10.3389/fmicb.2020.00384/full"
   ]
  },
  {
   "cell_type": "markdown",
   "id": "15f44246-7bbb-4758-adff-9e11301dadeb",
   "metadata": {},
   "source": [
    "### Pollinator microbiome"
   ]
  },
  {
   "cell_type": "markdown",
   "id": "a70da081-dcfc-4b9a-b2b6-71be3b2a5cea",
   "metadata": {},
   "source": [
    "### Crop microbiome"
   ]
  },
  {
   "cell_type": "markdown",
   "id": "223f6b3c-aca6-4098-af4f-8fa5eb09e069",
   "metadata": {},
   "source": [
    "### Vector microbiome"
   ]
  },
  {
   "cell_type": "markdown",
   "id": "85c45153-42a6-49c9-b5c5-93b9ed9ff50f",
   "metadata": {},
   "source": [
    "### Fish microbiome"
   ]
  },
  {
   "cell_type": "markdown",
   "id": "71d95163-b64b-434b-93bd-88c9038d6a7c",
   "metadata": {},
   "source": [
    "### Human microbiome"
   ]
  }
 ],
 "metadata": {
  "kernelspec": {
   "display_name": "Python 3 (ipykernel)",
   "language": "python",
   "name": "python3"
  },
  "language_info": {
   "codemirror_mode": {
    "name": "ipython",
    "version": 3
   },
   "file_extension": ".py",
   "mimetype": "text/x-python",
   "name": "python",
   "nbconvert_exporter": "python",
   "pygments_lexer": "ipython3",
   "version": "3.10.12"
  }
 },
 "nbformat": 4,
 "nbformat_minor": 5
}
