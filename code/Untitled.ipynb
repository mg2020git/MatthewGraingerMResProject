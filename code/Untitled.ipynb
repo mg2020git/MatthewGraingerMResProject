{
 "cells": [
  {
   "cell_type": "markdown",
   "id": "6a684962-5e61-455a-b151-edf55f2053c9",
   "metadata": {},
   "source": [
    "# Making starting classes network"
   ]
  }
 ],
 "metadata": {
  "kernelspec": {
   "display_name": "R",
   "language": "R",
   "name": "ir"
  },
  "language_info": {
   "codemirror_mode": "r",
   "file_extension": ".r",
   "mimetype": "text/x-r-source",
   "name": "R",
   "pygments_lexer": "r",
   "version": "4.1.2"
  }
 },
 "nbformat": 4,
 "nbformat_minor": 5
}
