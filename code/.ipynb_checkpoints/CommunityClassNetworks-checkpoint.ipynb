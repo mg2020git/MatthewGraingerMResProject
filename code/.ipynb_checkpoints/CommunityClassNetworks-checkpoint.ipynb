{
 "cells": [
  {
   "cell_type": "markdown",
   "id": "4a0dd83f-2bcf-46a8-8e13-0c5a700698b8",
   "metadata": {},
   "source": [
    "# Here, I look at separate networks for each community class"
   ]
  }
 ],
 "metadata": {
  "kernelspec": {
   "display_name": "Python 3 (ipykernel)",
   "language": "python",
   "name": "python3"
  },
  "language_info": {
   "codemirror_mode": {
    "name": "ipython",
    "version": 3
   },
   "file_extension": ".py",
   "mimetype": "text/x-python",
   "name": "python",
   "nbconvert_exporter": "python",
   "pygments_lexer": "ipython3",
   "version": "3.10.12"
  }
 },
 "nbformat": 4,
 "nbformat_minor": 5
}
