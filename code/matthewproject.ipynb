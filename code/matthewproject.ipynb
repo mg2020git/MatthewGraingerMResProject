{
 "cells": [
  {
   "cell_type": "markdown",
   "id": "c73dbe7a-e8d8-49e2-8cfb-b38e8e63c4fc",
   "metadata": {},
   "source": [
    "Matthew Shaun Grainger MRes Project\n",
    "======"
   ]
  },
  {
   "cell_type": "markdown",
   "id": "c6dc4839-816a-440a-97fa-9745754b09aa",
   "metadata": {},
   "source": [
    "## Introduction\n",
    "There are two main lines of investigation for my project, depending upon the data that I am able to work with:\n",
    "- Compare microbial communities (snapshots of the same overall microbial community) from the same location at different time points.\n",
    "- Compare microbial communities from different locations at the same time point.\n",
    "\n",
    "The former approach investigates how the microbial community of a given environment changes over time (temporally), with the hopes of understanding its assembly. The latter approach investigates how microbial communities change over space (spatially). These 'spaces' could also correspond to different ecosystem functions, such as within a comparison between the microbial community associated with healthy wheat and that which is associated with diseased wheat. Both approaches can easily be combined, allowing for a comparison between the assembly dynamics of different microbial communities across space.\n",
    "\n",
    "Whichever approach is chosen, microbial communities will need to be identified. To do this, I will conduct a few different pipelines on the same data, with the intention of reaching consensus in characterising its microbial community.\n"
   ]
  },
  {
   "cell_type": "markdown",
   "id": "0197fcb9-6444-4e9f-afee-07fe145a0746",
   "metadata": {},
   "source": [
    "## General Pipeline for Microbial Community Identification\n",
    "To identify a microbial community, microbial 'species' (ASVs or OTUs, hereafter referred to as OTUs) must be grouped. A microbial community is simply a group of OTUs that interact.\n",
    "\n",
    "The identification of microbial communities often requires several steps:\n",
    "- Data preparation\n",
    "- Co-occurrence calculation (or alternatives)\n",
    "- Network inference (constructing a network)\n",
    "- Network analysis\n",
    "  \n",
    "These steps are discussed in the notebook sections below. Out of these steps, pipelines can differ in the following ways:\n",
    "- Sequencing\n",
    "- OTU quantification\n",
    "- Link type for clustering and measurement of link type for clustering (such as different measurements of correlation)\n",
    "- Clustering method\n",
    "- Network analysis method\n"
   ]
  },
  {
   "cell_type": "markdown",
   "id": "ab42052c-be7b-4162-b0b2-f04f1cf2e075",
   "metadata": {},
   "source": [
    "## Data Preparation\n",
    "Data preparation can be broken down further into the following steps:\n",
    "- The microbial community of interest must be sampled. This could be a sample of water or soil for instance. The sample contains microbes.\n",
    "- DNA is extracted from the sample, amplified, and then sequenced. Different sequencing techniques may be used.\n",
    "- OTUs are determined.\n",
    "- OTUs are quantified.\n",
    "\n",
    "Different sequencing methods provide different results. In this project, I will be using 16S rRNA sequencing data. Sampling at the 16S rRNA region is commonly practiced; this region is present in all bacteria, and it is highly variable such that can be used to classify bacterial OTUs. OTUs are classified based upon some high degree of sequence similarity.\n",
    "\n",
    "Once OTUs have been classified, an OTU table must be constructed. An OTU table comprises a quantification of each OTU for each sample. There are various possible methods of quantification. Here, I will be using presence/absence data."
   ]
  },
  {
   "cell_type": "markdown",
   "id": "210ce3f8-79a3-4e9f-ac4c-42e2401d523d",
   "metadata": {},
   "source": [
    "## Co-occurrence Calculation\n",
    "There are several ways of constructing a network from microbial community samples. A network consists of nodes with links between them. For example, samples (and clusters of samples) can be nodes, connected by links in the form of their pairwise beta diversity similarities. Here, the samples are assumed to be communities, and each cluster within the network is considered to be a 'community class'. Alternatively, OTUs (and clusters of OTUs) can be nodes, and metabolic compatability between different OTUs can be used as links.\n",
    "Perhaps the most common approach to constructing a microbial network is to use OTUs (and clusters of OTUs) as nodes, and to use pairwise correlations between nodes as links. A positive correlation between a pair of nodes is considered to be co-occurrence, and a negative correlaton between nodes is considered to be segragation. In this investigation, co-occurrences between OTUs will be used to construct a network.\n",
    "\n",
    "For calculating the all-against-all pairwise correlation between OTUs, there are various different metrics:\n",
    "- Pearson correlation coefficient\n",
    "- Spearman's rank correlation coefficient\n",
    "- SparCC (FUNCTIONINK USES THIS)\n",
    "- SPIEC-EASI (JAKE)\n",
    "- CoNet (OFTEN MENTIONED)\n",
    "  "
   ]
  },
  {
   "cell_type": "markdown",
   "id": "39952217-83f7-45e6-b745-ace8511016bd",
   "metadata": {},
   "source": [
    "## Pearson correlation coefficient\n",
    "The Pearson correlation coefficient between all pairs of OTUs can be performed in R or Python, in either the base programming language or via the use of packages, and by using either existing functions or a custom-made function by myself.\n",
    "\n",
    "In Python:"
   ]
  },
  {
   "cell_type": "code",
   "execution_count": null,
   "id": "df81c643-7c95-4f01-a3c6-f67a7760e79f",
   "metadata": {},
   "outputs": [],
   "source": [
    "\n",
    "\n",
    "\n",
    "# Defining a custom pearson_correlation function\n",
    "def pearson_correlation(otu_a_relabundances, otu_b_relabundances): # The inputs are the respective columns from the OTU table for the pair of OTUs that are being correlated.\n",
    "    _mean_a = \n",
    "    _mean_b\n",
    "    _covariance =\n",
    "    \n",
    "    \n",
    "    \n",
    "     "
   ]
  },
  {
   "cell_type": "markdown",
   "id": "03f72e35-c392-47d3-9a04-c64c071a50d0",
   "metadata": {},
   "source": [
    "## SparCC\n",
    "SparCC was published in (Friedman & Alm, 2012), and has since been cited frequently.\n"
   ]
  }
 ],
 "metadata": {
  "kernelspec": {
   "display_name": "Python 3 (ipykernel)",
   "language": "python",
   "name": "python3"
  },
  "language_info": {
   "codemirror_mode": {
    "name": "ipython",
    "version": 3
   },
   "file_extension": ".py",
   "mimetype": "text/x-python",
   "name": "python",
   "nbconvert_exporter": "python",
   "pygments_lexer": "ipython3",
   "version": "3.10.12"
  }
 },
 "nbformat": 4,
 "nbformat_minor": 5
}
